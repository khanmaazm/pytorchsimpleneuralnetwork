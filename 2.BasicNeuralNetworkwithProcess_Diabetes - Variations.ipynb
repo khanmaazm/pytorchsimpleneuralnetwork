{
 "cells": [
  {
   "cell_type": "code",
   "execution_count": 2,
   "metadata": {},
   "outputs": [],
   "source": [
    "import numpy as np\n",
    "import torch\n",
    "import torch.nn as nn\n",
    "import torch.nn.functional as functions\n",
    "import pandas as pd\n",
    "from sklearn.preprocessing import StandardScaler\n",
    "from torch.utils.data import Dataset, DataLoader#, IterableDataset"
   ]
  },
  {
   "cell_type": "code",
   "execution_count": 3,
   "metadata": {},
   "outputs": [
    {
     "name": "stdout",
     "output_type": "stream",
     "text": [
      "(768, 8)\n"
     ]
    },
    {
     "data": {
      "text/html": [
       "<div>\n",
       "<style scoped>\n",
       "    .dataframe tbody tr th:only-of-type {\n",
       "        vertical-align: middle;\n",
       "    }\n",
       "\n",
       "    .dataframe tbody tr th {\n",
       "        vertical-align: top;\n",
       "    }\n",
       "\n",
       "    .dataframe thead th {\n",
       "        text-align: right;\n",
       "    }\n",
       "</style>\n",
       "<table border=\"1\" class=\"dataframe\">\n",
       "  <thead>\n",
       "    <tr style=\"text-align: right;\">\n",
       "      <th></th>\n",
       "      <th>Number of times pregnant</th>\n",
       "      <th>Plasma glucose concentration</th>\n",
       "      <th>Diastolic blood pressure</th>\n",
       "      <th>Triceps skin fold thickness</th>\n",
       "      <th>2-Hour serum insulin</th>\n",
       "      <th>Body mass index</th>\n",
       "      <th>Age</th>\n",
       "      <th>Class</th>\n",
       "    </tr>\n",
       "  </thead>\n",
       "  <tbody>\n",
       "    <tr>\n",
       "      <th>0</th>\n",
       "      <td>6</td>\n",
       "      <td>148</td>\n",
       "      <td>72</td>\n",
       "      <td>35</td>\n",
       "      <td>0</td>\n",
       "      <td>33.6</td>\n",
       "      <td>50</td>\n",
       "      <td>positive</td>\n",
       "    </tr>\n",
       "    <tr>\n",
       "      <th>1</th>\n",
       "      <td>1</td>\n",
       "      <td>85</td>\n",
       "      <td>66</td>\n",
       "      <td>29</td>\n",
       "      <td>0</td>\n",
       "      <td>26.6</td>\n",
       "      <td>31</td>\n",
       "      <td>negative</td>\n",
       "    </tr>\n",
       "    <tr>\n",
       "      <th>2</th>\n",
       "      <td>8</td>\n",
       "      <td>183</td>\n",
       "      <td>64</td>\n",
       "      <td>0</td>\n",
       "      <td>0</td>\n",
       "      <td>23.3</td>\n",
       "      <td>32</td>\n",
       "      <td>positive</td>\n",
       "    </tr>\n",
       "    <tr>\n",
       "      <th>3</th>\n",
       "      <td>1</td>\n",
       "      <td>89</td>\n",
       "      <td>66</td>\n",
       "      <td>23</td>\n",
       "      <td>94</td>\n",
       "      <td>28.1</td>\n",
       "      <td>21</td>\n",
       "      <td>negative</td>\n",
       "    </tr>\n",
       "    <tr>\n",
       "      <th>4</th>\n",
       "      <td>0</td>\n",
       "      <td>137</td>\n",
       "      <td>40</td>\n",
       "      <td>35</td>\n",
       "      <td>168</td>\n",
       "      <td>43.1</td>\n",
       "      <td>33</td>\n",
       "      <td>positive</td>\n",
       "    </tr>\n",
       "  </tbody>\n",
       "</table>\n",
       "</div>"
      ],
      "text/plain": [
       "   Number of times pregnant  Plasma glucose concentration  \\\n",
       "0                         6                           148   \n",
       "1                         1                            85   \n",
       "2                         8                           183   \n",
       "3                         1                            89   \n",
       "4                         0                           137   \n",
       "\n",
       "   Diastolic blood pressure  Triceps skin fold thickness  \\\n",
       "0                        72                           35   \n",
       "1                        66                           29   \n",
       "2                        64                            0   \n",
       "3                        66                           23   \n",
       "4                        40                           35   \n",
       "\n",
       "   2-Hour serum insulin  Body mass index  Age     Class  \n",
       "0                     0             33.6   50  positive  \n",
       "1                     0             26.6   31  negative  \n",
       "2                     0             23.3   32  positive  \n",
       "3                    94             28.1   21  negative  \n",
       "4                   168             43.1   33  positive  "
      ]
     },
     "execution_count": 3,
     "metadata": {},
     "output_type": "execute_result"
    }
   ],
   "source": [
    "# Load the dataset using Pandas\n",
    "data = pd.read_csv('diabetes.csv')\n",
    "print(data.shape)\n",
    "data.head()"
   ]
  },
  {
   "cell_type": "code",
   "execution_count": 4,
   "metadata": {
    "scrolled": false
   },
   "outputs": [
    {
     "name": "stdout",
     "output_type": "stream",
     "text": [
      "[[  6.  148.   72.  ...   0.   33.6  50. ]\n",
      " [  1.   85.   66.  ...   0.   26.6  31. ]\n",
      " [  8.  183.   64.  ...   0.   23.3  32. ]\n",
      " ...\n",
      " [  5.  121.   72.  ... 112.   26.2  30. ]\n",
      " [  1.  126.   60.  ...   0.   30.1  47. ]\n",
      " [  1.   93.   70.  ...   0.   30.4  23. ]]\n",
      "<class 'list'>\n"
     ]
    }
   ],
   "source": [
    "# For x: Extract out the dataset from all the rows (all samples) and all columns except last column (all features). \n",
    "# For y: Extract out the last column (which is the label)\n",
    "# Convert both to numpy using the .values method\n",
    "x = data.iloc[:,0:-1].values\n",
    "print(x)\n",
    "y_string= list(data.iloc[:,-1])\n",
    "print(type(y_string))"
   ]
  },
  {
   "cell_type": "code",
   "execution_count": 5,
   "metadata": {},
   "outputs": [
    {
     "name": "stdout",
     "output_type": "stream",
     "text": [
      "[[  6.  148.   72.   35.    0.   33.6  50. ]\n",
      " [  1.   85.   66.   29.    0.   26.6  31. ]\n",
      " [  8.  183.   64.    0.    0.   23.3  32. ]]\n",
      "['positive', 'negative', 'positive']\n"
     ]
    }
   ],
   "source": [
    "# Lets have a look some samples from our data\n",
    "print(x[:3]) #same as dataframe.head(3)\n",
    "print(y_string[:3])"
   ]
  },
  {
   "cell_type": "code",
   "execution_count": 6,
   "metadata": {},
   "outputs": [],
   "source": [
    "# Our neural network only understand numbers! So convert the string to labels\n",
    "y_int = []\n",
    "for string in y_string:\n",
    "    if string == 'positive':\n",
    "        y_int.append(1)\n",
    "    else:\n",
    "        y_int.append(0)"
   ]
  },
  {
   "cell_type": "code",
   "execution_count": 7,
   "metadata": {},
   "outputs": [],
   "source": [
    "# Now convert to an array\n",
    "y = np.array(y_int, dtype = 'float64')"
   ]
  },
  {
   "cell_type": "code",
   "execution_count": 8,
   "metadata": {},
   "outputs": [],
   "source": [
    "# Feature Normalization. All features should have the same range of values (-1,1)\n",
    "sc = StandardScaler()\n",
    "x = sc.fit_transform(x)"
   ]
  },
  {
   "cell_type": "code",
   "execution_count": 9,
   "metadata": {},
   "outputs": [],
   "source": [
    "# Now we convert the arrays to PyTorch tensors\n",
    "x = torch.tensor(x)\n",
    "# We add an extra dimension to convert this array to 2D\n",
    "y = torch.tensor(y).unsqueeze(1)"
   ]
  },
  {
   "cell_type": "code",
   "execution_count": 10,
   "metadata": {},
   "outputs": [
    {
     "name": "stdout",
     "output_type": "stream",
     "text": [
      "torch.Size([768, 7])\n",
      "torch.Size([768, 1])\n"
     ]
    }
   ],
   "source": [
    "print(x.shape)\n",
    "print(y.shape)"
   ]
  },
  {
   "cell_type": "code",
   "execution_count": 11,
   "metadata": {},
   "outputs": [],
   "source": [
    "class Dataset(Dataset):\n",
    "\n",
    "    def __init__(self,x,y):\n",
    "        self.x = x\n",
    "        self.y = y\n",
    "        \n",
    "    def __getitem__(self,index):\n",
    "        # Get one item from the dataset\n",
    "        return self.x[index], self.y[index]\n",
    "    \n",
    "    def __len__(self):\n",
    "        return len(self.x)"
   ]
  },
  {
   "cell_type": "code",
   "execution_count": 12,
   "metadata": {},
   "outputs": [],
   "source": [
    "dataset = Dataset(x,y)"
   ]
  },
  {
   "cell_type": "code",
   "execution_count": 13,
   "metadata": {},
   "outputs": [
    {
     "data": {
      "text/plain": [
       "__main__.Dataset"
      ]
     },
     "execution_count": 13,
     "metadata": {},
     "output_type": "execute_result"
    }
   ],
   "source": [
    "type(dataset)"
   ]
  },
  {
   "cell_type": "code",
   "execution_count": 14,
   "metadata": {},
   "outputs": [
    {
     "data": {
      "text/plain": [
       "768"
      ]
     },
     "execution_count": 14,
     "metadata": {},
     "output_type": "execute_result"
    }
   ],
   "source": [
    "len(dataset)"
   ]
  },
  {
   "cell_type": "code",
   "execution_count": 15,
   "metadata": {},
   "outputs": [
    {
     "name": "stdout",
     "output_type": "stream",
     "text": [
      "<class 'torch.utils.data.dataloader.DataLoader'>\n"
     ]
    }
   ],
   "source": [
    "# Load the data to your dataloader for batch processing and shuffling\n",
    "train_loader = DataLoader(dataset=dataset, batch_size=32, shuffle=True)\n",
    "print(type(train_loader))"
   ]
  },
  {
   "cell_type": "code",
   "execution_count": 16,
   "metadata": {},
   "outputs": [
    {
     "name": "stdout",
     "output_type": "stream",
     "text": [
      "There is 24 batches in the dataset\n",
      "For one iteration (batch), there is:\n",
      "Data:    torch.Size([32, 7])\n",
      "Labels:  torch.Size([32, 1])\n"
     ]
    }
   ],
   "source": [
    "# Let's have a look at the data loader\n",
    "print(\"There is {} batches in the dataset\".format(len(train_loader)))\n",
    "for (x,y) in train_loader:\n",
    "    print(\"For one iteration (batch), there is:\")\n",
    "    print(\"Data:    {}\".format(x.shape))\n",
    "    print(\"Labels:  {}\".format(y.shape))\n",
    "    break"
   ]
  },
  {
   "cell_type": "code",
   "execution_count": 37,
   "metadata": {},
   "outputs": [],
   "source": [
    "# Building a Class for the model neural network\n",
    "class DiabetesSimpleNeuralNetModel(nn.Module):\n",
    "    def __init__(self, input_features):\n",
    "        super(DiabetesSimpleNeuralNetModel, self).__init__()\n",
    "        self.inputlayer = nn.Linear(input_features, 5) #can be passed as parameters as well \n",
    "        self.hiddenlayer = nn.Linear(5, 3)  #can be passed as parameters as well\n",
    "        self.outputlayer = nn.Linear(3, 1)  #can be passed as parameters as well\n",
    "        self.tanh = nn.Tanh()\n",
    "        self.sigmoid = nn.Sigmoid()\n",
    "        self.relu = functions.relu\n",
    "        #######Variations: Call to initialize weights:\n",
    "        self.init_weights()\n",
    "\n",
    "    ##########Variations: Initializing weights manually:        \n",
    "    def init_weights(self):\n",
    "        nn.init.kaiming_normal_(self.inputlayer.weight)\n",
    "        nn.init.uniform_(self.hiddenlayer.weight, a = 0.0, b = 3)\n",
    "        nn.init.normal_(self.outputlayer.weight, mean = 0.0, std = 1.0)\n",
    "        # nn.init.xavier_uniform_(self.outputlayer.weight, gain = 1.0)\n",
    "        #nn.init.xavier_normal_(self.outputlayer.weight, gain = 1.0)\n",
    "        nn.init.constant_(self.inputlayer.bias, 0.4) #weights can also be done\n",
    "        \n",
    "    def forward(self, x):\n",
    "        inputlayerout = self.inputlayer(x)\n",
    "        out1fn = self.relu(inputlayerout)     \n",
    "        ####Variations: out1fn = self.tanh()\n",
    "        hiddenlayerout = self.hiddenlayer(out1fn)\n",
    "        out2fn = self.relu(hiddenlayerout)    # can be self.tanh or any other activation functions\n",
    "        finaloutput = self.outputlayer(out2fn)\n",
    "        sigmoidfinaloutput = self.sigmoid(finaloutput)\n",
    "        return sigmoidfinaloutput"
   ]
  },
  {
   "cell_type": "code",
   "execution_count": 20,
   "metadata": {},
   "outputs": [
    {
     "data": {
      "text/plain": [
       "DiabetesSimpleNeuralNetModel(\n",
       "  (inputlayer): Linear(in_features=7, out_features=5, bias=True)\n",
       "  (hiddenlayer): Linear(in_features=5, out_features=3, bias=True)\n",
       "  (outputlayer): Linear(in_features=3, out_features=1, bias=True)\n",
       "  (tanh): Tanh()\n",
       "  (sigmoid): Sigmoid()\n",
       ")"
      ]
     },
     "execution_count": 20,
     "metadata": {},
     "output_type": "execute_result"
    }
   ],
   "source": [
    "# Create the network (an object of the Net class)\n",
    "net = DiabetesSimpleNeuralNetModel(x.shape[1])\n",
    "net"
   ]
  },
  {
   "cell_type": "code",
   "execution_count": 21,
   "metadata": {},
   "outputs": [
    {
     "name": "stderr",
     "output_type": "stream",
     "text": [
      "C:\\Anaconda\\lib\\site-packages\\torch\\nn\\_reduction.py:43: UserWarning: size_average and reduce args will be deprecated, please use reduction='mean' instead.\n",
      "  warnings.warn(warning.format(ret))\n"
     ]
    }
   ],
   "source": [
    "#In Binary Cross Entropy: the input and output should have the same shape \n",
    "#size_average = True --> the losses are averaged over observations for each minibatch\n",
    "criterion = torch.nn.BCELoss(size_average=True) \n",
    "####Variations:criterion = torch.nn.CrossEntropyLoss()"
   ]
  },
  {
   "cell_type": "code",
   "execution_count": 22,
   "metadata": {},
   "outputs": [],
   "source": [
    "# We will use SGD with momentum with a learning rate of 0.1\n",
    "optimizer = torch.optim.SGD(net.parameters(), lr=0.1) #, momentum=0.9\n",
    "####Variations: optimizer = torch.optim.Adam(net.parameters(), lr=0.1)"
   ]
  },
  {
   "cell_type": "code",
   "execution_count": 29,
   "metadata": {},
   "outputs": [
    {
     "name": "stdout",
     "output_type": "stream",
     "text": [
      "Epoch 1/20, Loss: 0.520, Accuracy: 0.750\n",
      "Epoch 2/20, Loss: 0.603, Accuracy: 0.719\n",
      "Epoch 3/20, Loss: 0.496, Accuracy: 0.750\n",
      "Epoch 4/20, Loss: 0.562, Accuracy: 0.719\n",
      "Epoch 5/20, Loss: 0.460, Accuracy: 0.844\n",
      "Epoch 6/20, Loss: 0.477, Accuracy: 0.781\n",
      "Epoch 7/20, Loss: 0.413, Accuracy: 0.844\n",
      "Epoch 8/20, Loss: 0.388, Accuracy: 0.844\n",
      "Epoch 9/20, Loss: 0.679, Accuracy: 0.688\n",
      "Epoch 10/20, Loss: 0.355, Accuracy: 0.844\n",
      "Epoch 11/20, Loss: 0.517, Accuracy: 0.750\n",
      "Epoch 12/20, Loss: 0.389, Accuracy: 0.875\n",
      "Epoch 13/20, Loss: 0.547, Accuracy: 0.750\n",
      "Epoch 14/20, Loss: 0.406, Accuracy: 0.875\n",
      "Epoch 15/20, Loss: 0.367, Accuracy: 0.844\n",
      "Epoch 16/20, Loss: 0.492, Accuracy: 0.781\n",
      "Epoch 17/20, Loss: 0.551, Accuracy: 0.688\n",
      "Epoch 18/20, Loss: 0.511, Accuracy: 0.812\n",
      "Epoch 19/20, Loss: 0.351, Accuracy: 0.875\n",
      "Epoch 20/20, Loss: 0.503, Accuracy: 0.750\n"
     ]
    }
   ],
   "source": [
    "# Train the network \n",
    "num_epochs = 20\n",
    "running_loss = 0\n",
    "for epoch in range(num_epochs):\n",
    "    for inputs,labels in train_loader:\n",
    "        inputs = inputs.float()\n",
    "        labels = labels.float()\n",
    "        # Feed Forward\n",
    "        output = net(inputs) #is same as net.forward(inputs)\n",
    "        # Loss Calculation\n",
    "        loss = criterion(output, labels)\n",
    "        # Clear the gradient buffer (we don't want to accumulate gradients)\n",
    "        optimizer.zero_grad()\n",
    "        # Backpropagation \n",
    "        loss.backward()\n",
    "        # Weight Update: w <-- w - lr * gradient\n",
    "        optimizer.step()\n",
    "        \n",
    "    #Accuracy\n",
    "    # Since we are using a sigmoid, we will need to perform some manual thresholding\n",
    "    output = (output>0.5).float()\n",
    "    ######Variations in case of multiple: _, outputs: output = torch.max(outputs.data, 1)    \n",
    "    # Accuracy: (output == labels).float().sum() / output.shape[0]\n",
    "    accuracy = (output == labels).float().mean()\n",
    "    # Print statistics \n",
    "    print(\"Epoch {}/{}, Loss: {:.3f}, Accuracy: {:.3f}\".format(epoch+1,num_epochs, loss, accuracy))"
   ]
  },
  {
   "cell_type": "code",
   "execution_count": 34,
   "metadata": {},
   "outputs": [
    {
     "name": "stdout",
     "output_type": "stream",
     "text": [
      "<bound method Module.parameters of DiabetesSimpleNeuralNetModel(\n",
      "  (inputlayer): Linear(in_features=7, out_features=5, bias=True)\n",
      "  (hiddenlayer): Linear(in_features=5, out_features=3, bias=True)\n",
      "  (outputlayer): Linear(in_features=3, out_features=1, bias=True)\n",
      "  (tanh): Tanh()\n",
      "  (sigmoid): Sigmoid()\n",
      ")>\n",
      "\n",
      "\n",
      "\n",
      "\n",
      "<generator object Module.parameters at 0x000001F18491D5C8>\n",
      "\n",
      "\n",
      "\n",
      "\n",
      "[Parameter containing:\n",
      "tensor([[ 0.2389,  0.6589, -0.1649,  0.3268, -0.2096,  0.1507,  0.1267],\n",
      "        [-0.2613,  0.0737, -1.0609,  0.4494,  0.0722,  0.6821, -0.5706],\n",
      "        [-0.4947,  0.9146,  0.4219,  0.0639, -0.7132,  0.9676, -0.5428],\n",
      "        [-0.1781, -1.3371, -0.1908,  0.7297, -0.5981, -0.4271, -0.4646],\n",
      "        [ 0.3609,  0.5077, -0.2068, -0.5160,  0.3741,  0.6768, -0.1496]],\n",
      "       requires_grad=True), Parameter containing:\n",
      "tensor([ 0.9529, -0.2378,  0.2045,  0.2075,  0.2865], requires_grad=True), Parameter containing:\n",
      "tensor([[-0.3122,  1.2898, -0.0802, -1.4495, -0.6280],\n",
      "        [-0.8942,  0.2435, -0.8998, -0.3440, -0.1880],\n",
      "        [ 1.3784, -0.7096,  0.2665, -0.1647,  0.7501]], requires_grad=True), Parameter containing:\n",
      "tensor([0.1906, 0.0817, 0.1830], requires_grad=True), Parameter containing:\n",
      "tensor([[1.0269, 0.3202, 0.7876]], requires_grad=True), Parameter containing:\n",
      "tensor([-2.3026], requires_grad=True)]\n"
     ]
    }
   ],
   "source": [
    "#####Variations: Getting created Neural Network details \n",
    "print(net.parameters)\n",
    "print('\\n\\n\\n')\n",
    "print(net.parameters())\n",
    "print('\\n\\n\\n')\n",
    "print(list(net.parameters()))"
   ]
  },
  {
   "cell_type": "code",
   "execution_count": 36,
   "metadata": {},
   "outputs": [
    {
     "name": "stdout",
     "output_type": "stream",
     "text": [
      "Parameter containing:\n",
      "tensor([[ 0.2389,  0.6589, -0.1649,  0.3268, -0.2096,  0.1507,  0.1267],\n",
      "        [-0.2613,  0.0737, -1.0609,  0.4494,  0.0722,  0.6821, -0.5706],\n",
      "        [-0.4947,  0.9146,  0.4219,  0.0639, -0.7132,  0.9676, -0.5428],\n",
      "        [-0.1781, -1.3371, -0.1908,  0.7297, -0.5981, -0.4271, -0.4646],\n",
      "        [ 0.3609,  0.5077, -0.2068, -0.5160,  0.3741,  0.6768, -0.1496]],\n",
      "       requires_grad=True)\n",
      "\n",
      "\n",
      "Parameter containing:\n",
      "tensor([[-0.3122,  1.2898, -0.0802, -1.4495, -0.6280],\n",
      "        [-0.8942,  0.2435, -0.8998, -0.3440, -0.1880],\n",
      "        [ 1.3784, -0.7096,  0.2665, -0.1647,  0.7501]], requires_grad=True)\n",
      "\n",
      "\n",
      "Parameter containing:\n",
      "tensor([[1.0269, 0.3202, 0.7876]], requires_grad=True)\n"
     ]
    }
   ],
   "source": [
    "#####Variations: Getting created Neural Network Layer level details \n",
    "print(net.inputlayer.weight)\n",
    "print('\\n')\n",
    "print(net.hiddenlayer.weight)\n",
    "print('\\n')\n",
    "print(net.outputlayer.weight)"
   ]
  }
 ],
 "metadata": {
  "kernelspec": {
   "display_name": "Python 3",
   "language": "python",
   "name": "python3"
  },
  "language_info": {
   "codemirror_mode": {
    "name": "ipython",
    "version": 3
   },
   "file_extension": ".py",
   "mimetype": "text/x-python",
   "name": "python",
   "nbconvert_exporter": "python",
   "pygments_lexer": "ipython3",
   "version": "3.7.6"
  }
 },
 "nbformat": 4,
 "nbformat_minor": 2
}
